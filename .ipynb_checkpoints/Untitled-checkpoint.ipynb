{
 "cells": [
  {
   "cell_type": "code",
   "execution_count": 124,
   "metadata": {},
   "outputs": [],
   "source": [
    "import numpy as np\n",
    "import pandas as pd\n",
    "import sklearn\n",
    "from sklearn.tree import DecisionTreeClassifier\n",
    "from sklearn.ensemble import RandomForestClassifier\n",
    "from sklearn.linear_model import Perceptron\n",
    "from sklearn.ensemble import RandomForestClassifier\n",
    "from sklearn.preprocessing import StandardScaler\n",
    "from sklearn.neighbors import KNeighborsClassifier\n",
    "from sklearn.model_selection import KFold\n",
    "import seaborn as sns; sns.set()\n",
    "import matplotlib.pyplot as plt\n",
    "from sklearn import metrics\n",
    "from sklearn.metrics import accuracy_score\n",
    "from sklearn.metrics import confusion_matrix"
   ]
  },
  {
   "cell_type": "code",
   "execution_count": 125,
   "metadata": {},
   "outputs": [],
   "source": [
    "# Statistics for Analysis\n",
    "\n",
    "# Confusion Matrix\n",
    "def confusionMatrix(pred, test):\n",
    "    mat = sklearn.metrics.confusion_matrix(pred, test)\n",
    "    sns.heatmap(mat.T, square=True, annot=True, fmt='d', cbar=False)\n",
    "    plt.xlabel('true label')\n",
    "    plt.ylabel('predicted label');\n",
    "\n",
    "# Accuracy\n",
    "def accuracy(pred, test):\n",
    "    print('Accuracy: %.2f' %sklearn.metrics.accuracy_score(test, pred))\n",
    "    \n",
    "# Mean of test set\n",
    "def mean(test):\n",
    "    print('Mean: %.2f' %np.mean(test))\n",
    "    \n",
    "# Mean Root Squared\n",
    "def mrs(pred, test):\n",
    "    print('Root Mean Squared Error:', np.sqrt(metrics.mean_squared_error(test, pred)))\n",
    "\n",
    "# Accuracy + Confusion Matrix + Mean + MRS\n",
    "def combined(pred, test):\n",
    "    accuracy(pred,test)\n",
    "    confusionMatrix(pred, test)\n",
    "    mrs(pred, test) "
   ]
  },
  {
   "cell_type": "code",
   "execution_count": 126,
   "metadata": {},
   "outputs": [],
   "source": [
    "# Load the dataset. \n",
    "df = pd.read_csv(\"./Data/heart.csv\", na_values=['NA', '?'])\n",
    "df = df.reindex(np.random.permutation(df.index))\n",
    "\n",
    "# Data Wrangling \n",
    "df.target.replace({1: 0, 0: 1})\n",
    "\n",
    "result = []\n",
    "\n",
    "for x in df.columns:\n",
    "    if x != 'target':\n",
    "        result.append(x)\n",
    "        \n",
    "X = df[result].values\n",
    "y = df['target'].values"
   ]
  },
  {
   "cell_type": "code",
   "execution_count": 131,
   "metadata": {},
   "outputs": [],
   "source": [
    "# Kfold training + results \n",
    "class crossValidation:\n",
    "    \n",
    "    def __init__(self, algorithm, X, y):\n",
    "        \n",
    "        self.algorithm = algorithm\n",
    "        self.X = X \n",
    "        self.y = y\n",
    "        \n",
    "    # Splits and trains the dataset\n",
    "    def train(self, k):\n",
    "        self.k = k\n",
    "        \n",
    "        #Scale data - normalize data\n",
    "        sc = StandardScaler()\n",
    "        # Decides number of splits according to specified number by user\n",
    "        kf = KFold(self.k)\n",
    "        output = []\n",
    "        \n",
    "        for train_index, validate_index in kf.split(self.X,self.y):\n",
    "            # Training data\n",
    "            Xt = self.X[train_index]\n",
    "            sc.fit(Xt)\n",
    "            X_train_std = sc.transform(Xt)\n",
    "            X_test_std = sc.transform(self.X[validate_index])\n",
    "            # Fit model to data\n",
    "            self.algorithm.fit(X_train_std, y[train_index])\n",
    "            # Get validation labels\n",
    "            y_test = (self.y[validate_index])\n",
    "            # Get predicted labels\n",
    "            y_pred = (self.algorithm.predict(X_test_std))\n",
    "            # Creating a list of predictions and validation labels for later use\n",
    "            output.append(y_pred)\n",
    "            output.append(y_test)\n",
    "            \n",
    "        return output\n",
    "    \n",
    "    #Performs statistics on the model\n",
    "    def stats(self, k):\n",
    "        pred = self.train(k)\n",
    "        # See 'combined' function\n",
    "        return combined(pred[0], pred[1])\n",
    "    \n",
    "    #Evalates the effect of different fold sizes and gives the mean of all folds.\n",
    "    def evaluateK(self, k):\n",
    "        result = []\n",
    "        # Runs from 2 (minimum available amount) to a specified number (fold sizes) by user\n",
    "        for i in range(2, k):\n",
    "            #Calls train method\n",
    "            pred = self.train(i)\n",
    "            result.append(accuracy_score(pred[0], pred[1]))\n",
    "        \n",
    "        return result"
   ]
  },
  {
   "cell_type": "code",
   "execution_count": 132,
   "metadata": {},
   "outputs": [],
   "source": [
    "class handler:\n",
    "    def __init__(self, data_frame, file_name, ml_type, target):\n",
    "        self.data_frame = data_frame\n",
    "        self.ml_type = ml_type\n",
    "        self.target = target\n",
    "        self.file_name = file_name\n",
    "    def data_wrangler(self):\n",
    "        if self.ml_type = 'classification':\n",
    "            result = []\n",
    "\n",
    "            for x in self.data_frame.columns:\n",
    "                if x != self.target:\n",
    "                    result.append(x)\n",
    "                \n",
    "            self.X = self.data_frame[result].values\n",
    "            self.y = self.data_frame[self.target].values\n",
    "            del self.data_frame\n",
    "            del self.ml_type\n",
    "        elif self.my_type = 'regression':\n",
    "            del self.data_frame\n",
    "            del self.ml_type\n",
    "    def analysis(self):\n",
    "        \n",
    "        output = []\n",
    "        model_list = [DecisionTreeClassifier(criterion = 'entropy'), Perceptron(max_iter=40,tol=0.001,eta0=1),\n",
    "                     KNeighborsClassifier(), RandomForestClassifier(n_estimators=10,criterion=\"entropy\")]\n",
    "        for model in model_list:\n",
    "            \n",
    "            name = str(model).split('(')\n",
    "            name_dict = {}\n",
    "            model_output = []\n",
    "            results = crossValidation(model, self.X, self.y)\n",
    "            np.max(results.evaluateK(20))\n",
    "            name_dict[name[0]] = np.max(results.evaluateK(20))\n",
    "            output.append(name_dict)\n",
    "            \n",
    "        \n",
    "        return output"
   ]
  },
  {
   "cell_type": "code",
   "execution_count": 133,
   "metadata": {},
   "outputs": [],
   "source": [
    "data_handler = handler(10, 20, 30, 40)"
   ]
  },
  {
   "cell_type": "code",
   "execution_count": 134,
   "metadata": {},
   "outputs": [],
   "source": [
    "results = data_handler.analysis()"
   ]
  },
  {
   "cell_type": "code",
   "execution_count": 135,
   "metadata": {},
   "outputs": [
    {
     "name": "stdout",
     "output_type": "stream",
     "text": [
      "[{'DecisionTreeClassifier': 0.9411764705882353}, {'Perceptron': 0.8571428571428571}, {'KNeighborsClassifier': 0.8289473684210527}, {'RandomForestClassifier': 0.8823529411764706}]\n"
     ]
    }
   ],
   "source": [
    "print(results)"
   ]
  }
 ],
 "metadata": {
  "kernelspec": {
   "display_name": "Python 3",
   "language": "python",
   "name": "python3"
  },
  "language_info": {
   "codemirror_mode": {
    "name": "ipython",
    "version": 3
   },
   "file_extension": ".py",
   "mimetype": "text/x-python",
   "name": "python",
   "nbconvert_exporter": "python",
   "pygments_lexer": "ipython3",
   "version": "3.8.3"
  }
 },
 "nbformat": 4,
 "nbformat_minor": 4
}
